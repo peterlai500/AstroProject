{
 "cells": [
  {
   "cell_type": "code",
   "execution_count": 1,
   "id": "1e5eb501",
   "metadata": {},
   "outputs": [],
   "source": [
    "from astropy import coordinates\n",
    "from astropy import units as u\n",
    "from astropy.coordinates import Angle"
   ]
  },
  {
   "cell_type": "code",
   "execution_count": 2,
   "id": "e85e4f5e",
   "metadata": {},
   "outputs": [],
   "source": [
    "from astroquery.alma import Alma\n",
    "alma=Alma()"
   ]
  },
  {
   "cell_type": "code",
   "execution_count": 10,
   "id": "cf77ab3c",
   "metadata": {},
   "outputs": [],
   "source": [
    "source = 'J1924-2914'"
   ]
  },
  {
   "cell_type": "code",
   "execution_count": 4,
   "id": "7f852c21",
   "metadata": {},
   "outputs": [],
   "source": [
    "RA = '19:24:51.05596 hour'    # unit is hourangle\n",
    "ra = Angle(RA).to(u.deg)    # change unit from hh:mm:ss to deg"
   ]
  },
  {
   "cell_type": "code",
   "execution_count": 5,
   "id": "2374e19c",
   "metadata": {},
   "outputs": [],
   "source": [
    "DEC = '-29:14:30.1211'\n",
    "dec = Angle(DEC, u.deg)"
   ]
  },
  {
   "cell_type": "code",
   "execution_count": 6,
   "id": "a1abed73",
   "metadata": {
    "scrolled": true
   },
   "outputs": [
    {
     "data": {
      "text/plain": [
       "<SkyCoord (ICRS): (ra, dec) in deg\n",
       "    (291.21273317, -29.24170031)>"
      ]
     },
     "execution_count": 6,
     "metadata": {},
     "output_type": "execute_result"
    }
   ],
   "source": [
    "pos = coordinates.SkyCoord(ra, dec, frame='icrs')\n",
    "pos"
   ]
  },
  {
   "cell_type": "code",
   "execution_count": 7,
   "id": "5854d88d",
   "metadata": {},
   "outputs": [
    {
     "data": {
      "text/html": [
       "<div><i>Table length=4</i>\n",
       "<table id=\"table2696268346128\" class=\"table-striped table-bordered table-condensed\">\n",
       "<thead><tr><th>collections</th><th>obs_publisher_did</th><th>obs_collection</th><th>facility_name</th><th>instrument_name</th><th>obs_id</th><th>dataproduct_type</th><th>calib_level</th><th>target_name</th><th>s_ra</th><th>s_dec</th><th>s_fov</th><th>s_region</th><th>s_xel1</th><th>s_xel2</th><th>em_xel</th><th>t_xel</th><th>pol_xel</th><th>s_resolution</th><th>t_min</th><th>t_max</th><th>t_exptime</th><th>t_resolution</th><th>em_min</th><th>em_max</th><th>em_res_power</th><th>pol_states</th><th>o_ucd</th><th>access_url</th><th>access_format</th><th>access_estsize</th><th>proposal_id</th><th>data_rights</th><th>gal_longitude</th><th>gal_latitude</th><th>band_list</th><th>em_resolution</th><th>bandwidth</th><th>antenna_arrays</th><th>is_mosaic</th><th>obs_release_date</th><th>spatial_resolution</th><th>frequency_support</th><th>frequency</th><th>velocity_resolution</th><th>obs_creator_name</th><th>pub_title</th><th>first_author</th><th>authors</th><th>pub_abstract</th><th>publication_year</th><th>proposal_abstract</th><th>schedblock_name</th><th>proposal_authors</th><th>sensitivity_10kms</th><th>cont_sensitivity_bandwidth</th><th>pwv</th><th>group_ous_uid</th><th>member_ous_uid</th><th>asdm_uid</th><th>obs_title</th><th>type</th><th>scan_intent</th><th>science_observation</th><th>spatial_scale_max</th><th>qa2_passed</th><th>bib_reference</th><th>science_keyword</th><th>scientific_category</th><th>lastModified</th></tr></thead>\n",
       "<thead><tr><th></th><th></th><th></th><th></th><th></th><th></th><th></th><th></th><th></th><th>deg</th><th>deg</th><th>deg</th><th></th><th></th><th></th><th></th><th></th><th></th><th>arcsec</th><th>d</th><th>d</th><th>s</th><th>s</th><th>m</th><th>m</th><th></th><th></th><th></th><th></th><th></th><th>kbyte</th><th></th><th></th><th>deg</th><th>deg</th><th></th><th>m</th><th>Hz</th><th></th><th></th><th></th><th>arcsec</th><th>GHz</th><th>GHz</th><th>m / s</th><th></th><th></th><th></th><th></th><th></th><th></th><th></th><th></th><th></th><th>mJy / beam</th><th>mJy / beam</th><th>mm</th><th></th><th></th><th></th><th></th><th></th><th></th><th></th><th>arcsec</th><th></th><th></th><th></th><th></th><th></th></tr></thead>\n",
       "<thead><tr><th>str128</th><th>str33</th><th>str4</th><th>str3</th><th>str4</th><th>str64</th><th>str5</th><th>int32</th><th>str256</th><th>float64</th><th>float64</th><th>float64</th><th>object</th><th>int32</th><th>int32</th><th>int32</th><th>int32</th><th>int32</th><th>float64</th><th>float64</th><th>float64</th><th>float64</th><th>float64</th><th>float64</th><th>float64</th><th>float64</th><th>str64</th><th>str35</th><th>str72</th><th>str9</th><th>int32</th><th>str64</th><th>str11</th><th>float64</th><th>float64</th><th>str30</th><th>float64</th><th>float64</th><th>str660</th><th>str1</th><th>object</th><th>float64</th><th>str4000</th><th>float64</th><th>float64</th><th>str256</th><th>str256</th><th>str256</th><th>str4000</th><th>str4000</th><th>int32</th><th>str4000</th><th>str128</th><th>str2000</th><th>float64</th><th>float64</th><th>float32</th><th>str64</th><th>str64</th><th>str32</th><th>str256</th><th>str16</th><th>str256</th><th>str1</th><th>float64</th><th>str1</th><th>str4000</th><th>str200</th><th>str200</th><th>str32</th></tr></thead>\n",
       "<tr><td></td><td>ADS/JAO.ALMA#2017.1.00200.S</td><td>ALMA</td><td>JAO</td><td>ALMA</td><td>uid://A001/X1289/X450.source.HD182681.spw.25</td><td>cube</td><td>2</td><td>HD182681</td><td>291.7354572032394</td><td>-29.74348406878292</td><td>0.006848413027746933</td><td>Polygon ICRS 291.738495 -29.745667 291.737356 -29.746485 291.735951 -29.746881 291.734476 -29.746801 291.732943 -29.746123 291.731889 -29.744942 291.731521 -29.743699 291.731707 -29.742427 291.732420 -29.741301 291.733779 -29.740386 291.735210 -29.740067 291.736676 -29.740227 291.737971 -29.740846 291.738913 -29.741834 291.739393 -29.743269 291.739208 -29.744541</td><td>--</td><td>--</td><td>3840</td><td>1</td><td>2</td><td>0.9720232437004103</td><td>58273.251061</td><td>58293.240788</td><td>1632.549</td><td>1632.549</td><td>0.0013141342202188653</td><td>0.0013250211319843037</td><td>233624.85661405025</td><td>/XX/YY/</td><td>phot.flux.density;phys.polarization</td><td>https://almascience.org/datalink/sync?ID=uid://A001/X1289/X450</td><td>applicati</td><td>--</td><td>2017.1.00200.S</td><td>Public</td><td>9.015137566736485</td><td>-20.209408018924897</td><td>6</td><td>292740348582904.1</td><td>1875000000.0</td><td>A001:DV07 A002:DA46 A003:DV12 A004:DA52 A005:DV25 A006:DA61 A007:DV05 A008:DA42 A010:DA50 A011:DV21 A013:DV24 A015:DA64 A016:DA44 A017:DA56 A018:DV13 A019:DA58 A022:DV23 A023:DA41 A024:DA49 A025:DV02 A026:DA57 A027:DV06 A028:DA63 A030:DA59 A031:DA48 A033:DA53 A034:DA55 A035:DA47 A036:DA45 A038:DV22 A039:DV14 A040:DA51 A041:DV19 A042:DV08 A043:DA60 A044:DV11 A045:DV01 A046:DA54 A047:DV15 A048:DA62 A049:DV03 A058:DA43 A060:DV17 A062:DV10 A066:DV04 A068:DA65 A069:DV16 A072:DV20 A074:DV09 T701:PM02 T702:PM03 T703:PM01 T704:PM04</td><td>F</td><td>2019-06-28T21:50:15.000</td><td>0.9720232437004103</td><td>[226.25..228.13GHz,976.56kHz,866.5uJy/beam@10km/s,55.1uJy/beam@native, XX YY] U [229.25..231.13GHz,976.56kHz,846.8uJy/beam@10km/s,54.2uJy/beam@native, XX YY] U [242.09..244.08GHz,31250.00kHz,873.8uJy/beam@10km/s,55.6uJy/beam@native, XX YY] U [244.20..246.18GHz,31250.00kHz,898.5uJy/beam@10km/s,57.5uJy/beam@native, XX YY]</td><td>227.1920517021823</td><td>1266.56625893746</td><td>ALMA</td><td>A ∼75 per cent occurrence rate of debris discs around F stars in the β Pic moving group The REASONS Survey: Resolved Millimeter Observations of a Large Debris Disk around the Nearby F Star HD 170773</td><td>Pawellek, Nicole Sepulveda, Aldo G.</td><td>Pawellek, Nicole; Wyatt, Mark; Matrà, Luca; Kennedy, Grant; Yelverton6, Ben Sepulveda, Aldo G.; Matrà, Luca; Kennedy, Grant M.; del Burgo, Carlos; Öberg, Karin I.; Wilner, David J.; Marino, Sebastián; Booth, Mark; Carpenter, John M.; Davies, Claire L.; Dent, William R. F.; Ertel, Steve; Lestrade, Jean-Francois; Marshall, Jonathan P.; Milli, Julien; Wyatt, Mark C.; MacGregor, Meredith A.; Matthews, Brenda C.</td><td>Debris disks are extrasolar analogs to our own Kuiper Belt and they are detected around at least 17% of nearby Sun-like stars. The morphology and dynamics of a disk encode information about its history, as well as that of any exoplanets within the system. We used the Atacama Large Millimeter/submillimeter Array (ALMA) to obtain 1.3 mm observations of the debris disk around the nearby F5V star HD 170773. We image the face-on ring and determine its fundamental parameters by forward-modeling the interferometric visibilities through a Markov Chain Monte Carlo approach. Using a symmetric Gaussian surface density profile, we find a 71 ± 4 au wide belt with a radius of {193}&lt;SUB&gt;-3&lt;/SUB&gt;&lt;SUP&gt;+2&lt;/SUP&gt; au, a relatively large radius compared with most other millimeter-resolved belts around late A/early F type stars. This makes HD 170773 part of a group of four disks around A and F stars with radii larger than expected from the recently reported planetesimal belt radius—stellar luminosity relation. Two of these systems are known to host directly imaged giant planets, which may point to a connection between large belts and the presence of long-period giant planets. We also set upper limits on the presence of CO and CN gas in the system, which imply that the exocomets that constitute this belt have CO and HCN ice mass fractions of &amp;lt;77% and &amp;lt;3%, respectively. This is consistent with solar system comets and other exocometary belts. Only 20 per cent of old field stars have detectable debris discs, leaving open the question of what disc, if any, is present around the remaining 80 per cent. Young moving groups allow to probe this population, since discs are expected to have been brighter early on. This paper considers the population of F stars in the 23 Myr-old β Pictoris moving group (BPMG) where we find that 9/12 targets possess discs. We also analyse archival ALMA data to derive radii for four of the discs, presenting the first image of the 63 au radius disc of HD 164249. Comparing the BPMG results to disc samples from ∼45-Myr and ∼150-Myr-old moving groups, and to discs found around field stars, we find that the disc incidence rate in young moving groups is comparable to that of the BPMG and significantly higher than that of field stars. The BPMG discs tend to be smaller than those around field stars. However, this difference is not statistically significant due to the small number of targets. Yet, by analysing the fractional luminosity versus disc radius parameter space, we find that the fractional luminosities in the populations considered drop by two orders of magnitude within the first 100 Myr. This is much faster than expected by collisional evolution, implying a decay equivalent to 1/age&lt;SUP&gt;2&lt;/SUP&gt;. We attribute this depletion to embedded planets, which would be around 170 M&lt;SUB&gt;earth&lt;/SUB&gt; to cause a depletion on the appropriate time-scale. However, we cannot rule out that different birth environments of nearby young clusters result in brighter debris discs than the progenitors of field stars that likely formed in a more dense environment.</td><td>2019</td><td>Locating planetesimal belts is fundamental to understand their formation and evolution. We propose REASONS (REsolved ALMA Survey of Nearby Stars) to accurately measure the radius and geometry for 18 nearby planetesimal belts, completing the mm-flux-limited sample of the SONS JCMT Legacy Survey. We will study our newly discovered tentative correlation between belt radius and stellar luminosity, which already suggests a link to the CO snow line location in progenitor protoplanetary disks. If confirmed at high significance through REASONS, this would provide strong evidence for a common belt formation mechanism. By putting together a complete sample of all mm-bright debris disks, we will also provide a crucial test of the population synthesis models that fit the observed population of IR excesses. Additionally, we will search for exocometary gas and compare resolved disks with scattered light images, to constrain the ice content of exocomets and link it back to the belt formation location. This community effort will provide a legacy of all mm-bright resolved debris disks, fundamental for our understanding of the formation and evolution of planetesimal belts, including our own.</td><td>HD182681_a_06_TM1</td><td>Marino, Sebastian; Dent, Bill; Milli, Julien; Lawler, Samantha; Absil, Olivier; Augereau, Jean-Charles; Holland, Wayne; Draper, Zachary; del Burgo, Carlos; Davies, Claire; Greaves, Jane; Booth, Mark; Lestrade, Jean-Francois; Carpenter, John; Marshall, Jonathan; Ertel, Steve; Wyatt, Mark; Schieven, Gerald; Matthews, Brenda; Kennedy, Grant; Wahhaj, Zahed; MacGregor, Meredith; Wilner, David;</td><td>0.8664953914454925</td><td>0.02777847291961636</td><td>1.6692911</td><td>uid://A001/X1289/X44f</td><td>uid://A001/X1289/X450</td><td>uid://A002/Xce3de5/X6203</td><td>REsolved ALMA Survey Of Nearby Stars (REASONS): a population study of the formation location of planetesimal belts</td><td>S</td><td>TARGET</td><td>T</td><td>10.484387225517105</td><td>T</td><td>2019ApJ...881...84S 2021MNRAS.502.5390P</td><td>Debris disks</td><td>Disks and planet formation</td><td>2022-12-14T18:33:50.278</td></tr>\n",
       "<tr><td></td><td>ADS/JAO.ALMA#2017.1.00200.S</td><td>ALMA</td><td>JAO</td><td>ALMA</td><td>uid://A001/X1289/X450.source.HD182681.spw.27</td><td>cube</td><td>2</td><td>HD182681</td><td>291.7354572032394</td><td>-29.74348406878292</td><td>0.006848413027746933</td><td>Polygon ICRS 291.738495 -29.745667 291.737356 -29.746485 291.735951 -29.746881 291.734476 -29.746801 291.732943 -29.746123 291.731889 -29.744942 291.731521 -29.743699 291.731707 -29.742427 291.732420 -29.741301 291.733779 -29.740386 291.735210 -29.740067 291.736676 -29.740227 291.737971 -29.740846 291.738913 -29.741834 291.739393 -29.743269 291.739208 -29.744541</td><td>--</td><td>--</td><td>3840</td><td>1</td><td>2</td><td>0.9720232437004103</td><td>58273.251061</td><td>58293.240788</td><td>1632.549</td><td>1632.549</td><td>0.0012970776751052957</td><td>0.0013076826715498495</td><td>236697.01911331515</td><td>/XX/YY/</td><td>phot.flux.density;phys.polarization</td><td>https://almascience.org/datalink/sync?ID=uid://A001/X1289/X450</td><td>applicati</td><td>--</td><td>2017.1.00200.S</td><td>Public</td><td>9.015137566736485</td><td>-20.209408018924897</td><td>6</td><td>292740348582904.1</td><td>1875000000.0</td><td>A001:DV07 A002:DA46 A003:DV12 A004:DA52 A005:DV25 A006:DA61 A007:DV05 A008:DA42 A010:DA50 A011:DV21 A013:DV24 A015:DA64 A016:DA44 A017:DA56 A018:DV13 A019:DA58 A022:DV23 A023:DA41 A024:DA49 A025:DV02 A026:DA57 A027:DV06 A028:DA63 A030:DA59 A031:DA48 A033:DA53 A034:DA55 A035:DA47 A036:DA45 A038:DV22 A039:DV14 A040:DA51 A041:DV19 A042:DV08 A043:DA60 A044:DV11 A045:DV01 A046:DA54 A047:DV15 A048:DA62 A049:DV03 A058:DA43 A060:DV17 A062:DV10 A066:DV04 A068:DA65 A069:DV16 A072:DV20 A074:DV09 T701:PM02 T702:PM03 T703:PM01 T704:PM04</td><td>F</td><td>2019-06-28T21:50:15.000</td><td>0.9720232437004103</td><td>[226.25..228.13GHz,976.56kHz,866.5uJy/beam@10km/s,55.1uJy/beam@native, XX YY] U [229.25..231.13GHz,976.56kHz,846.8uJy/beam@10km/s,54.2uJy/beam@native, XX YY] U [242.09..244.08GHz,31250.00kHz,873.8uJy/beam@10km/s,55.6uJy/beam@native, XX YY] U [244.20..246.18GHz,31250.00kHz,898.5uJy/beam@10km/s,57.5uJy/beam@native, XX YY]</td><td>230.19194675102744</td><td>1266.56625893746</td><td>ALMA</td><td>A ∼75 per cent occurrence rate of debris discs around F stars in the β Pic moving group The REASONS Survey: Resolved Millimeter Observations of a Large Debris Disk around the Nearby F Star HD 170773</td><td>Pawellek, Nicole Sepulveda, Aldo G.</td><td>Pawellek, Nicole; Wyatt, Mark; Matrà, Luca; Kennedy, Grant; Yelverton6, Ben Sepulveda, Aldo G.; Matrà, Luca; Kennedy, Grant M.; del Burgo, Carlos; Öberg, Karin I.; Wilner, David J.; Marino, Sebastián; Booth, Mark; Carpenter, John M.; Davies, Claire L.; Dent, William R. F.; Ertel, Steve; Lestrade, Jean-Francois; Marshall, Jonathan P.; Milli, Julien; Wyatt, Mark C.; MacGregor, Meredith A.; Matthews, Brenda C.</td><td>Debris disks are extrasolar analogs to our own Kuiper Belt and they are detected around at least 17% of nearby Sun-like stars. The morphology and dynamics of a disk encode information about its history, as well as that of any exoplanets within the system. We used the Atacama Large Millimeter/submillimeter Array (ALMA) to obtain 1.3 mm observations of the debris disk around the nearby F5V star HD 170773. We image the face-on ring and determine its fundamental parameters by forward-modeling the interferometric visibilities through a Markov Chain Monte Carlo approach. Using a symmetric Gaussian surface density profile, we find a 71 ± 4 au wide belt with a radius of {193}&lt;SUB&gt;-3&lt;/SUB&gt;&lt;SUP&gt;+2&lt;/SUP&gt; au, a relatively large radius compared with most other millimeter-resolved belts around late A/early F type stars. This makes HD 170773 part of a group of four disks around A and F stars with radii larger than expected from the recently reported planetesimal belt radius—stellar luminosity relation. Two of these systems are known to host directly imaged giant planets, which may point to a connection between large belts and the presence of long-period giant planets. We also set upper limits on the presence of CO and CN gas in the system, which imply that the exocomets that constitute this belt have CO and HCN ice mass fractions of &amp;lt;77% and &amp;lt;3%, respectively. This is consistent with solar system comets and other exocometary belts. Only 20 per cent of old field stars have detectable debris discs, leaving open the question of what disc, if any, is present around the remaining 80 per cent. Young moving groups allow to probe this population, since discs are expected to have been brighter early on. This paper considers the population of F stars in the 23 Myr-old β Pictoris moving group (BPMG) where we find that 9/12 targets possess discs. We also analyse archival ALMA data to derive radii for four of the discs, presenting the first image of the 63 au radius disc of HD 164249. Comparing the BPMG results to disc samples from ∼45-Myr and ∼150-Myr-old moving groups, and to discs found around field stars, we find that the disc incidence rate in young moving groups is comparable to that of the BPMG and significantly higher than that of field stars. The BPMG discs tend to be smaller than those around field stars. However, this difference is not statistically significant due to the small number of targets. Yet, by analysing the fractional luminosity versus disc radius parameter space, we find that the fractional luminosities in the populations considered drop by two orders of magnitude within the first 100 Myr. This is much faster than expected by collisional evolution, implying a decay equivalent to 1/age&lt;SUP&gt;2&lt;/SUP&gt;. We attribute this depletion to embedded planets, which would be around 170 M&lt;SUB&gt;earth&lt;/SUB&gt; to cause a depletion on the appropriate time-scale. However, we cannot rule out that different birth environments of nearby young clusters result in brighter debris discs than the progenitors of field stars that likely formed in a more dense environment.</td><td>2019</td><td>Locating planetesimal belts is fundamental to understand their formation and evolution. We propose REASONS (REsolved ALMA Survey of Nearby Stars) to accurately measure the radius and geometry for 18 nearby planetesimal belts, completing the mm-flux-limited sample of the SONS JCMT Legacy Survey. We will study our newly discovered tentative correlation between belt radius and stellar luminosity, which already suggests a link to the CO snow line location in progenitor protoplanetary disks. If confirmed at high significance through REASONS, this would provide strong evidence for a common belt formation mechanism. By putting together a complete sample of all mm-bright debris disks, we will also provide a crucial test of the population synthesis models that fit the observed population of IR excesses. Additionally, we will search for exocometary gas and compare resolved disks with scattered light images, to constrain the ice content of exocomets and link it back to the belt formation location. This community effort will provide a legacy of all mm-bright resolved debris disks, fundamental for our understanding of the formation and evolution of planetesimal belts, including our own.</td><td>HD182681_a_06_TM1</td><td>Marino, Sebastian; Dent, Bill; Milli, Julien; Lawler, Samantha; Absil, Olivier; Augereau, Jean-Charles; Holland, Wayne; Draper, Zachary; del Burgo, Carlos; Davies, Claire; Greaves, Jane; Booth, Mark; Lestrade, Jean-Francois; Carpenter, John; Marshall, Jonathan; Ertel, Steve; Wyatt, Mark; Schieven, Gerald; Matthews, Brenda; Kennedy, Grant; Wahhaj, Zahed; MacGregor, Meredith; Wilner, David;</td><td>0.8468341210005225</td><td>0.02777847291961636</td><td>1.6692911</td><td>uid://A001/X1289/X44f</td><td>uid://A001/X1289/X450</td><td>uid://A002/Xce3de5/X6203</td><td>REsolved ALMA Survey Of Nearby Stars (REASONS): a population study of the formation location of planetesimal belts</td><td>S</td><td>TARGET</td><td>T</td><td>10.484387225517105</td><td>T</td><td>2019ApJ...881...84S 2021MNRAS.502.5390P</td><td>Debris disks</td><td>Disks and planet formation</td><td>2022-12-14T18:33:50.278</td></tr>\n",
       "<tr><td></td><td>ADS/JAO.ALMA#2017.1.00200.S</td><td>ALMA</td><td>JAO</td><td>ALMA</td><td>uid://A001/X1289/X450.source.HD182681.spw.23</td><td>image</td><td>2</td><td>HD182681</td><td>291.7354572032394</td><td>-29.74348406878292</td><td>0.006848413027746933</td><td>Polygon ICRS 291.738495 -29.745667 291.737356 -29.746485 291.735951 -29.746881 291.734476 -29.746801 291.732943 -29.746123 291.731889 -29.744942 291.731521 -29.743699 291.731707 -29.742427 291.732420 -29.741301 291.733779 -29.740386 291.735210 -29.740067 291.736676 -29.740227 291.737971 -29.740846 291.738913 -29.741834 291.739393 -29.743269 291.739208 -29.744541</td><td>--</td><td>--</td><td>128</td><td>1</td><td>2</td><td>0.9720232437004103</td><td>58273.251061</td><td>58293.240788</td><td>1632.549</td><td>1632.549</td><td>0.0012177599026655913</td><td>0.0012276549011725733</td><td>7815.065050314048</td><td>/XX/YY/</td><td>phot.flux.density;phys.polarization</td><td>https://almascience.org/datalink/sync?ID=uid://A001/X1289/X450</td><td>applicati</td><td>--</td><td>2017.1.00200.S</td><td>Public</td><td>9.015137566736485</td><td>-20.209408018924897</td><td>6</td><td>292740348582904.1</td><td>2000000000.0</td><td>A001:DV07 A002:DA46 A003:DV12 A004:DA52 A005:DV25 A006:DA61 A007:DV05 A008:DA42 A010:DA50 A011:DV21 A013:DV24 A015:DA64 A016:DA44 A017:DA56 A018:DV13 A019:DA58 A022:DV23 A023:DA41 A024:DA49 A025:DV02 A026:DA57 A027:DV06 A028:DA63 A030:DA59 A031:DA48 A033:DA53 A034:DA55 A035:DA47 A036:DA45 A038:DV22 A039:DV14 A040:DA51 A041:DV19 A042:DV08 A043:DA60 A044:DV11 A045:DV01 A046:DA54 A047:DV15 A048:DA62 A049:DV03 A058:DA43 A060:DV17 A062:DV10 A066:DV04 A068:DA65 A069:DV16 A072:DV20 A074:DV09 T701:PM02 T702:PM03 T703:PM01 T704:PM04</td><td>F</td><td>2019-06-28T21:50:15.000</td><td>0.9720232437004103</td><td>[226.25..228.13GHz,976.56kHz,866.5uJy/beam@10km/s,55.1uJy/beam@native, XX YY] U [229.25..231.13GHz,976.56kHz,846.8uJy/beam@10km/s,54.2uJy/beam@native, XX YY] U [242.09..244.08GHz,31250.00kHz,873.8uJy/beam@10km/s,55.6uJy/beam@native, XX YY] U [244.20..246.18GHz,31250.00kHz,898.5uJy/beam@10km/s,57.5uJy/beam@native, XX YY]</td><td>245.19142199565295</td><td>1266.56625893746</td><td>ALMA</td><td>A ∼75 per cent occurrence rate of debris discs around F stars in the β Pic moving group The REASONS Survey: Resolved Millimeter Observations of a Large Debris Disk around the Nearby F Star HD 170773</td><td>Pawellek, Nicole Sepulveda, Aldo G.</td><td>Pawellek, Nicole; Wyatt, Mark; Matrà, Luca; Kennedy, Grant; Yelverton6, Ben Sepulveda, Aldo G.; Matrà, Luca; Kennedy, Grant M.; del Burgo, Carlos; Öberg, Karin I.; Wilner, David J.; Marino, Sebastián; Booth, Mark; Carpenter, John M.; Davies, Claire L.; Dent, William R. F.; Ertel, Steve; Lestrade, Jean-Francois; Marshall, Jonathan P.; Milli, Julien; Wyatt, Mark C.; MacGregor, Meredith A.; Matthews, Brenda C.</td><td>Debris disks are extrasolar analogs to our own Kuiper Belt and they are detected around at least 17% of nearby Sun-like stars. The morphology and dynamics of a disk encode information about its history, as well as that of any exoplanets within the system. We used the Atacama Large Millimeter/submillimeter Array (ALMA) to obtain 1.3 mm observations of the debris disk around the nearby F5V star HD 170773. We image the face-on ring and determine its fundamental parameters by forward-modeling the interferometric visibilities through a Markov Chain Monte Carlo approach. Using a symmetric Gaussian surface density profile, we find a 71 ± 4 au wide belt with a radius of {193}&lt;SUB&gt;-3&lt;/SUB&gt;&lt;SUP&gt;+2&lt;/SUP&gt; au, a relatively large radius compared with most other millimeter-resolved belts around late A/early F type stars. This makes HD 170773 part of a group of four disks around A and F stars with radii larger than expected from the recently reported planetesimal belt radius—stellar luminosity relation. Two of these systems are known to host directly imaged giant planets, which may point to a connection between large belts and the presence of long-period giant planets. We also set upper limits on the presence of CO and CN gas in the system, which imply that the exocomets that constitute this belt have CO and HCN ice mass fractions of &amp;lt;77% and &amp;lt;3%, respectively. This is consistent with solar system comets and other exocometary belts. Only 20 per cent of old field stars have detectable debris discs, leaving open the question of what disc, if any, is present around the remaining 80 per cent. Young moving groups allow to probe this population, since discs are expected to have been brighter early on. This paper considers the population of F stars in the 23 Myr-old β Pictoris moving group (BPMG) where we find that 9/12 targets possess discs. We also analyse archival ALMA data to derive radii for four of the discs, presenting the first image of the 63 au radius disc of HD 164249. Comparing the BPMG results to disc samples from ∼45-Myr and ∼150-Myr-old moving groups, and to discs found around field stars, we find that the disc incidence rate in young moving groups is comparable to that of the BPMG and significantly higher than that of field stars. The BPMG discs tend to be smaller than those around field stars. However, this difference is not statistically significant due to the small number of targets. Yet, by analysing the fractional luminosity versus disc radius parameter space, we find that the fractional luminosities in the populations considered drop by two orders of magnitude within the first 100 Myr. This is much faster than expected by collisional evolution, implying a decay equivalent to 1/age&lt;SUP&gt;2&lt;/SUP&gt;. We attribute this depletion to embedded planets, which would be around 170 M&lt;SUB&gt;earth&lt;/SUB&gt; to cause a depletion on the appropriate time-scale. However, we cannot rule out that different birth environments of nearby young clusters result in brighter debris discs than the progenitors of field stars that likely formed in a more dense environment.</td><td>2019</td><td>Locating planetesimal belts is fundamental to understand their formation and evolution. We propose REASONS (REsolved ALMA Survey of Nearby Stars) to accurately measure the radius and geometry for 18 nearby planetesimal belts, completing the mm-flux-limited sample of the SONS JCMT Legacy Survey. We will study our newly discovered tentative correlation between belt radius and stellar luminosity, which already suggests a link to the CO snow line location in progenitor protoplanetary disks. If confirmed at high significance through REASONS, this would provide strong evidence for a common belt formation mechanism. By putting together a complete sample of all mm-bright debris disks, we will also provide a crucial test of the population synthesis models that fit the observed population of IR excesses. Additionally, we will search for exocometary gas and compare resolved disks with scattered light images, to constrain the ice content of exocomets and link it back to the belt formation location. This community effort will provide a legacy of all mm-bright resolved debris disks, fundamental for our understanding of the formation and evolution of planetesimal belts, including our own.</td><td>HD182681_a_06_TM1</td><td>Marino, Sebastian; Dent, Bill; Milli, Julien; Lawler, Samantha; Absil, Olivier; Augereau, Jean-Charles; Holland, Wayne; Draper, Zachary; del Burgo, Carlos; Davies, Claire; Greaves, Jane; Booth, Mark; Lestrade, Jean-Francois; Carpenter, John; Marshall, Jonathan; Ertel, Steve; Wyatt, Mark; Schieven, Gerald; Matthews, Brenda; Kennedy, Grant; Wahhaj, Zahed; MacGregor, Meredith; Wilner, David;</td><td>0.8985497109806926</td><td>0.02777847291961636</td><td>1.6692911</td><td>uid://A001/X1289/X44f</td><td>uid://A001/X1289/X450</td><td>uid://A002/Xce3de5/X6203</td><td>REsolved ALMA Survey Of Nearby Stars (REASONS): a population study of the formation location of planetesimal belts</td><td>S</td><td>TARGET</td><td>T</td><td>10.484387225517105</td><td>T</td><td>2019ApJ...881...84S 2021MNRAS.502.5390P</td><td>Debris disks</td><td>Disks and planet formation</td><td>2022-12-14T18:33:50.278</td></tr>\n",
       "<tr><td></td><td>ADS/JAO.ALMA#2017.1.00200.S</td><td>ALMA</td><td>JAO</td><td>ALMA</td><td>uid://A001/X1289/X450.source.HD182681.spw.21</td><td>image</td><td>2</td><td>HD182681</td><td>291.7354572032394</td><td>-29.74348406878292</td><td>0.006848413027746933</td><td>Polygon ICRS 291.738495 -29.745667 291.737356 -29.746485 291.735951 -29.746881 291.734476 -29.746801 291.732943 -29.746123 291.731889 -29.744942 291.731521 -29.743699 291.731707 -29.742427 291.732420 -29.741301 291.733779 -29.740386 291.735210 -29.740067 291.736676 -29.740227 291.737971 -29.740846 291.738913 -29.741834 291.739393 -29.743269 291.739208 -29.744541</td><td>--</td><td>--</td><td>128</td><td>1</td><td>2</td><td>0.9720232437004103</td><td>58273.251061</td><td>58293.240788</td><td>1632.549</td><td>1632.549</td><td>0.0012282797142329775</td><td>0.0012383479633519183</td><td>7747.581396859291</td><td>/XX/YY/</td><td>phot.flux.density;phys.polarization</td><td>https://almascience.org/datalink/sync?ID=uid://A001/X1289/X450</td><td>applicati</td><td>--</td><td>2017.1.00200.S</td><td>Public</td><td>9.015137566736485</td><td>-20.209408018924897</td><td>6</td><td>292740348582904.1</td><td>2000000000.0</td><td>A001:DV07 A002:DA46 A003:DV12 A004:DA52 A005:DV25 A006:DA61 A007:DV05 A008:DA42 A010:DA50 A011:DV21 A013:DV24 A015:DA64 A016:DA44 A017:DA56 A018:DV13 A019:DA58 A022:DV23 A023:DA41 A024:DA49 A025:DV02 A026:DA57 A027:DV06 A028:DA63 A030:DA59 A031:DA48 A033:DA53 A034:DA55 A035:DA47 A036:DA45 A038:DV22 A039:DV14 A040:DA51 A041:DV19 A042:DV08 A043:DA60 A044:DV11 A045:DV01 A046:DA54 A047:DV15 A048:DA62 A049:DV03 A058:DA43 A060:DV17 A062:DV10 A066:DV04 A068:DA65 A069:DV16 A072:DV20 A074:DV09 T701:PM02 T702:PM03 T703:PM01 T704:PM04</td><td>F</td><td>2019-06-28T21:50:15.000</td><td>0.9720232437004103</td><td>[226.25..228.13GHz,976.56kHz,866.5uJy/beam@10km/s,55.1uJy/beam@native, XX YY] U [229.25..231.13GHz,976.56kHz,846.8uJy/beam@10km/s,54.2uJy/beam@native, XX YY] U [242.09..244.08GHz,31250.00kHz,873.8uJy/beam@10km/s,55.6uJy/beam@native, XX YY] U [244.20..246.18GHz,31250.00kHz,898.5uJy/beam@10km/s,57.5uJy/beam@native, XX YY]</td><td>243.08285814319856</td><td>1266.56625893746</td><td>ALMA</td><td>A ∼75 per cent occurrence rate of debris discs around F stars in the β Pic moving group The REASONS Survey: Resolved Millimeter Observations of a Large Debris Disk around the Nearby F Star HD 170773</td><td>Pawellek, Nicole Sepulveda, Aldo G.</td><td>Pawellek, Nicole; Wyatt, Mark; Matrà, Luca; Kennedy, Grant; Yelverton6, Ben Sepulveda, Aldo G.; Matrà, Luca; Kennedy, Grant M.; del Burgo, Carlos; Öberg, Karin I.; Wilner, David J.; Marino, Sebastián; Booth, Mark; Carpenter, John M.; Davies, Claire L.; Dent, William R. F.; Ertel, Steve; Lestrade, Jean-Francois; Marshall, Jonathan P.; Milli, Julien; Wyatt, Mark C.; MacGregor, Meredith A.; Matthews, Brenda C.</td><td>Debris disks are extrasolar analogs to our own Kuiper Belt and they are detected around at least 17% of nearby Sun-like stars. The morphology and dynamics of a disk encode information about its history, as well as that of any exoplanets within the system. We used the Atacama Large Millimeter/submillimeter Array (ALMA) to obtain 1.3 mm observations of the debris disk around the nearby F5V star HD 170773. We image the face-on ring and determine its fundamental parameters by forward-modeling the interferometric visibilities through a Markov Chain Monte Carlo approach. Using a symmetric Gaussian surface density profile, we find a 71 ± 4 au wide belt with a radius of {193}&lt;SUB&gt;-3&lt;/SUB&gt;&lt;SUP&gt;+2&lt;/SUP&gt; au, a relatively large radius compared with most other millimeter-resolved belts around late A/early F type stars. This makes HD 170773 part of a group of four disks around A and F stars with radii larger than expected from the recently reported planetesimal belt radius—stellar luminosity relation. Two of these systems are known to host directly imaged giant planets, which may point to a connection between large belts and the presence of long-period giant planets. We also set upper limits on the presence of CO and CN gas in the system, which imply that the exocomets that constitute this belt have CO and HCN ice mass fractions of &amp;lt;77% and &amp;lt;3%, respectively. This is consistent with solar system comets and other exocometary belts. Only 20 per cent of old field stars have detectable debris discs, leaving open the question of what disc, if any, is present around the remaining 80 per cent. Young moving groups allow to probe this population, since discs are expected to have been brighter early on. This paper considers the population of F stars in the 23 Myr-old β Pictoris moving group (BPMG) where we find that 9/12 targets possess discs. We also analyse archival ALMA data to derive radii for four of the discs, presenting the first image of the 63 au radius disc of HD 164249. Comparing the BPMG results to disc samples from ∼45-Myr and ∼150-Myr-old moving groups, and to discs found around field stars, we find that the disc incidence rate in young moving groups is comparable to that of the BPMG and significantly higher than that of field stars. The BPMG discs tend to be smaller than those around field stars. However, this difference is not statistically significant due to the small number of targets. Yet, by analysing the fractional luminosity versus disc radius parameter space, we find that the fractional luminosities in the populations considered drop by two orders of magnitude within the first 100 Myr. This is much faster than expected by collisional evolution, implying a decay equivalent to 1/age&lt;SUP&gt;2&lt;/SUP&gt;. We attribute this depletion to embedded planets, which would be around 170 M&lt;SUB&gt;earth&lt;/SUB&gt; to cause a depletion on the appropriate time-scale. However, we cannot rule out that different birth environments of nearby young clusters result in brighter debris discs than the progenitors of field stars that likely formed in a more dense environment.</td><td>2019</td><td>Locating planetesimal belts is fundamental to understand their formation and evolution. We propose REASONS (REsolved ALMA Survey of Nearby Stars) to accurately measure the radius and geometry for 18 nearby planetesimal belts, completing the mm-flux-limited sample of the SONS JCMT Legacy Survey. We will study our newly discovered tentative correlation between belt radius and stellar luminosity, which already suggests a link to the CO snow line location in progenitor protoplanetary disks. If confirmed at high significance through REASONS, this would provide strong evidence for a common belt formation mechanism. By putting together a complete sample of all mm-bright debris disks, we will also provide a crucial test of the population synthesis models that fit the observed population of IR excesses. Additionally, we will search for exocometary gas and compare resolved disks with scattered light images, to constrain the ice content of exocomets and link it back to the belt formation location. This community effort will provide a legacy of all mm-bright resolved debris disks, fundamental for our understanding of the formation and evolution of planetesimal belts, including our own.</td><td>HD182681_a_06_TM1</td><td>Marino, Sebastian; Dent, Bill; Milli, Julien; Lawler, Samantha; Absil, Olivier; Augereau, Jean-Charles; Holland, Wayne; Draper, Zachary; del Burgo, Carlos; Davies, Claire; Greaves, Jane; Booth, Mark; Lestrade, Jean-Francois; Carpenter, John; Marshall, Jonathan; Ertel, Steve; Wyatt, Mark; Schieven, Gerald; Matthews, Brenda; Kennedy, Grant; Wahhaj, Zahed; MacGregor, Meredith; Wilner, David;</td><td>0.8738478566251162</td><td>0.02777847291961636</td><td>1.6692911</td><td>uid://A001/X1289/X44f</td><td>uid://A001/X1289/X450</td><td>uid://A002/Xce3de5/X6203</td><td>REsolved ALMA Survey Of Nearby Stars (REASONS): a population study of the formation location of planetesimal belts</td><td>S</td><td>TARGET</td><td>T</td><td>10.484387225517105</td><td>T</td><td>2019ApJ...881...84S 2021MNRAS.502.5390P</td><td>Debris disks</td><td>Disks and planet formation</td><td>2022-12-14T18:33:50.278</td></tr>\n",
       "</table></div>"
      ],
      "text/plain": [
       "<Table length=4>\n",
       "collections      obs_publisher_did      ...       lastModified     \n",
       "                                        ...                        \n",
       "   str128              str33            ...          str32         \n",
       "----------- --------------------------- ... -----------------------\n",
       "            ADS/JAO.ALMA#2017.1.00200.S ... 2022-12-14T18:33:50.278\n",
       "            ADS/JAO.ALMA#2017.1.00200.S ... 2022-12-14T18:33:50.278\n",
       "            ADS/JAO.ALMA#2017.1.00200.S ... 2022-12-14T18:33:50.278\n",
       "            ADS/JAO.ALMA#2017.1.00200.S ... 2022-12-14T18:33:50.278"
      ]
     },
     "execution_count": 7,
     "metadata": {},
     "output_type": "execute_result"
    }
   ],
   "source": [
    "data1 = alma.query_region(pos, 1*u.deg)\n",
    "data1"
   ]
  },
  {
   "cell_type": "code",
   "execution_count": 24,
   "id": "15e405af",
   "metadata": {},
   "outputs": [
    {
     "data": {
      "text/html": [
       "&lt;MaskedColumn name=&apos;target_name&apos; dtype=&apos;str256&apos; description=&apos;name of intended target&apos; length=4&gt;\n",
       "<table>\n",
       "<tr><td>HD182681</td></tr>\n",
       "<tr><td>HD182681</td></tr>\n",
       "<tr><td>HD182681</td></tr>\n",
       "<tr><td>HD182681</td></tr>\n",
       "</table>"
      ],
      "text/plain": [
       "<MaskedColumn name='target_name' dtype='str256' description='name of intended target' length=4>\n",
       "HD182681\n",
       "HD182681\n",
       "HD182681\n",
       "HD182681"
      ]
     },
     "execution_count": 24,
     "metadata": {},
     "output_type": "execute_result"
    }
   ],
   "source": [
    "data1['target_name']"
   ]
  },
  {
   "cell_type": "code",
   "execution_count": 8,
   "id": "f8827bb4",
   "metadata": {},
   "outputs": [
    {
     "data": {
      "text/html": [
       "<div><i>Table length=0</i>\n",
       "<table id=\"table2696268409440\" class=\"table-striped table-bordered table-condensed\">\n",
       "<thead><tr><th>collections</th><th>obs_publisher_did</th><th>obs_collection</th><th>facility_name</th><th>instrument_name</th><th>obs_id</th><th>dataproduct_type</th><th>calib_level</th><th>target_name</th><th>s_ra</th><th>s_dec</th><th>s_fov</th><th>s_region</th><th>s_xel1</th><th>s_xel2</th><th>em_xel</th><th>t_xel</th><th>pol_xel</th><th>s_resolution</th><th>t_min</th><th>t_max</th><th>t_exptime</th><th>t_resolution</th><th>em_min</th><th>em_max</th><th>em_res_power</th><th>pol_states</th><th>o_ucd</th><th>access_url</th><th>access_format</th><th>access_estsize</th><th>proposal_id</th><th>data_rights</th><th>gal_longitude</th><th>gal_latitude</th><th>band_list</th><th>em_resolution</th><th>bandwidth</th><th>antenna_arrays</th><th>is_mosaic</th><th>obs_release_date</th><th>spatial_resolution</th><th>frequency_support</th><th>frequency</th><th>velocity_resolution</th><th>obs_creator_name</th><th>pub_title</th><th>first_author</th><th>authors</th><th>pub_abstract</th><th>publication_year</th><th>proposal_abstract</th><th>schedblock_name</th><th>proposal_authors</th><th>sensitivity_10kms</th><th>cont_sensitivity_bandwidth</th><th>pwv</th><th>group_ous_uid</th><th>member_ous_uid</th><th>asdm_uid</th><th>obs_title</th><th>type</th><th>scan_intent</th><th>science_observation</th><th>spatial_scale_max</th><th>qa2_passed</th><th>bib_reference</th><th>science_keyword</th><th>scientific_category</th><th>lastModified</th></tr></thead>\n",
       "<thead><tr><th></th><th></th><th></th><th></th><th></th><th></th><th></th><th></th><th></th><th>deg</th><th>deg</th><th>deg</th><th></th><th></th><th></th><th></th><th></th><th></th><th>arcsec</th><th>d</th><th>d</th><th>s</th><th>s</th><th>m</th><th>m</th><th></th><th></th><th></th><th></th><th></th><th>kbyte</th><th></th><th></th><th>deg</th><th>deg</th><th></th><th>m</th><th>Hz</th><th></th><th></th><th></th><th>arcsec</th><th>GHz</th><th>GHz</th><th>m / s</th><th></th><th></th><th></th><th></th><th></th><th></th><th></th><th></th><th></th><th>mJy / beam</th><th>mJy / beam</th><th>mm</th><th></th><th></th><th></th><th></th><th></th><th></th><th></th><th>arcsec</th><th></th><th></th><th></th><th></th><th></th></tr></thead>\n",
       "<thead><tr><th>str128</th><th>str33</th><th>str4</th><th>str3</th><th>str4</th><th>str64</th><th>str5</th><th>int32</th><th>str256</th><th>float64</th><th>float64</th><th>float64</th><th>object</th><th>int32</th><th>int32</th><th>int32</th><th>int32</th><th>int32</th><th>float64</th><th>float64</th><th>float64</th><th>float64</th><th>float64</th><th>float64</th><th>float64</th><th>float64</th><th>str64</th><th>str35</th><th>str72</th><th>str9</th><th>int32</th><th>str64</th><th>str11</th><th>float64</th><th>float64</th><th>str30</th><th>float64</th><th>float64</th><th>str660</th><th>str1</th><th>object</th><th>float64</th><th>str4000</th><th>float64</th><th>float64</th><th>str256</th><th>str256</th><th>str256</th><th>str4000</th><th>str4000</th><th>int32</th><th>str4000</th><th>str128</th><th>str2000</th><th>float64</th><th>float64</th><th>float32</th><th>str64</th><th>str64</th><th>str32</th><th>str256</th><th>str16</th><th>str256</th><th>str1</th><th>float64</th><th>str1</th><th>str4000</th><th>str200</th><th>str200</th><th>str32</th></tr></thead>\n",
       "</table></div>"
      ],
      "text/plain": [
       "<Table length=0>\n",
       "collections obs_publisher_did ... scientific_category lastModified\n",
       "                              ...                                 \n",
       "   str128         str33       ...        str200          str32    \n",
       "----------- ----------------- ... ------------------- ------------"
      ]
     },
     "execution_count": 8,
     "metadata": {},
     "output_type": "execute_result"
    }
   ],
   "source": [
    "data2 = alma.query_region(pos, 0.5*u.deg)\n",
    "data2"
   ]
  },
  {
   "cell_type": "code",
   "execution_count": 12,
   "id": "0d8c4c01",
   "metadata": {},
   "outputs": [
    {
     "data": {
      "text/html": [
       "<div><i>Table length=0</i>\n",
       "<table id=\"table2696289246464\" class=\"table-striped table-bordered table-condensed\">\n",
       "<thead><tr><th>collections</th><th>obs_publisher_did</th><th>obs_collection</th><th>facility_name</th><th>instrument_name</th><th>obs_id</th><th>dataproduct_type</th><th>calib_level</th><th>target_name</th><th>s_ra</th><th>s_dec</th><th>s_fov</th><th>s_region</th><th>s_xel1</th><th>s_xel2</th><th>em_xel</th><th>t_xel</th><th>pol_xel</th><th>s_resolution</th><th>t_min</th><th>t_max</th><th>t_exptime</th><th>t_resolution</th><th>em_min</th><th>em_max</th><th>em_res_power</th><th>pol_states</th><th>o_ucd</th><th>access_url</th><th>access_format</th><th>access_estsize</th><th>proposal_id</th><th>data_rights</th><th>gal_longitude</th><th>gal_latitude</th><th>band_list</th><th>em_resolution</th><th>bandwidth</th><th>antenna_arrays</th><th>is_mosaic</th><th>obs_release_date</th><th>spatial_resolution</th><th>frequency_support</th><th>frequency</th><th>velocity_resolution</th><th>obs_creator_name</th><th>pub_title</th><th>first_author</th><th>authors</th><th>pub_abstract</th><th>publication_year</th><th>proposal_abstract</th><th>schedblock_name</th><th>proposal_authors</th><th>sensitivity_10kms</th><th>cont_sensitivity_bandwidth</th><th>pwv</th><th>group_ous_uid</th><th>member_ous_uid</th><th>asdm_uid</th><th>obs_title</th><th>type</th><th>scan_intent</th><th>science_observation</th><th>spatial_scale_max</th><th>qa2_passed</th><th>bib_reference</th><th>science_keyword</th><th>scientific_category</th><th>lastModified</th></tr></thead>\n",
       "<thead><tr><th></th><th></th><th></th><th></th><th></th><th></th><th></th><th></th><th></th><th>deg</th><th>deg</th><th>deg</th><th></th><th></th><th></th><th></th><th></th><th></th><th>arcsec</th><th>d</th><th>d</th><th>s</th><th>s</th><th>m</th><th>m</th><th></th><th></th><th></th><th></th><th></th><th>kbyte</th><th></th><th></th><th>deg</th><th>deg</th><th></th><th>m</th><th>Hz</th><th></th><th></th><th></th><th>arcsec</th><th>GHz</th><th>GHz</th><th>m / s</th><th></th><th></th><th></th><th></th><th></th><th></th><th></th><th></th><th></th><th>mJy / beam</th><th>mJy / beam</th><th>mm</th><th></th><th></th><th></th><th></th><th></th><th></th><th></th><th>arcsec</th><th></th><th></th><th></th><th></th><th></th></tr></thead>\n",
       "<thead><tr><th>str128</th><th>str33</th><th>str4</th><th>str3</th><th>str4</th><th>str64</th><th>str5</th><th>int32</th><th>str256</th><th>float64</th><th>float64</th><th>float64</th><th>object</th><th>int32</th><th>int32</th><th>int32</th><th>int32</th><th>int32</th><th>float64</th><th>float64</th><th>float64</th><th>float64</th><th>float64</th><th>float64</th><th>float64</th><th>float64</th><th>str64</th><th>str35</th><th>str72</th><th>str9</th><th>int32</th><th>str64</th><th>str11</th><th>float64</th><th>float64</th><th>str30</th><th>float64</th><th>float64</th><th>str660</th><th>str1</th><th>object</th><th>float64</th><th>str4000</th><th>float64</th><th>float64</th><th>str256</th><th>str256</th><th>str256</th><th>str4000</th><th>str4000</th><th>int32</th><th>str4000</th><th>str128</th><th>str2000</th><th>float64</th><th>float64</th><th>float32</th><th>str64</th><th>str64</th><th>str32</th><th>str256</th><th>str16</th><th>str256</th><th>str1</th><th>float64</th><th>str1</th><th>str4000</th><th>str200</th><th>str200</th><th>str32</th></tr></thead>\n",
       "</table></div>"
      ],
      "text/plain": [
       "<Table length=0>\n",
       "collections obs_publisher_did ... scientific_category lastModified\n",
       "                              ...                                 \n",
       "   str128         str33       ...        str200          str32    \n",
       "----------- ----------------- ... ------------------- ------------"
      ]
     },
     "execution_count": 12,
     "metadata": {},
     "output_type": "execute_result"
    }
   ],
   "source": [
    "data3 = alma.query(payload=dict(source_name_alma=source))\n",
    "data3"
   ]
  }
 ],
 "metadata": {
  "kernelspec": {
   "display_name": "Python 3 (ipykernel)",
   "language": "python",
   "name": "python3"
  },
  "language_info": {
   "codemirror_mode": {
    "name": "ipython",
    "version": 3
   },
   "file_extension": ".py",
   "mimetype": "text/x-python",
   "name": "python",
   "nbconvert_exporter": "python",
   "pygments_lexer": "ipython3",
   "version": "3.9.12"
  }
 },
 "nbformat": 4,
 "nbformat_minor": 5
}
