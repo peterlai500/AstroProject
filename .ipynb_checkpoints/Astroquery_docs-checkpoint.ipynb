{
 "cells": [
  {
   "cell_type": "code",
   "execution_count": null,
   "id": "7c0e8287",
   "metadata": {},
   "outputs": [],
   "source": [
    "# astropy documents\n",
    "# URL: https://docs.astropy.org/en/stable/index.html"
   ]
  },
  {
   "cell_type": "code",
   "execution_count": null,
   "id": "6e254988",
   "metadata": {},
   "outputs": [],
   "source": [
    "# Astroquery documents\n",
    "# URL: https://astroquery.readthedocs.io/en/latest/"
   ]
  },
  {
   "cell_type": "code",
   "execution_count": 7,
   "id": "977532fe",
   "metadata": {},
   "outputs": [
    {
     "name": "stdout",
     "output_type": "stream",
     "text": [
      "MAIN_ID    RA      DEC    RA_PREC DEC_PREC COO_ERR_MAJA COO_ERR_MINA COO_ERR_ANGLE COO_QUAL COO_WAVELENGTH COO_BIBCODE SCRIPT_NUMBER_ID\n",
      "        \"h:m:s\"  \"d:m:s\"                       mas          mas           deg                                                          \n",
      "------- -------- -------- ------- -------- ------------ ------------ ------------- -------- -------------- ----------- ----------------\n",
      "  M   1 05 34 32 +22 00.8       4        4           --           --             0        E              R                            1\n"
     ]
    }
   ],
   "source": [
    "# search objects in different API \n",
    "# take SIMBAD for example\n",
    "# search M1 nebula\n",
    "\n",
    "from astroquery.simbad import Simbad       # the SIMBAD query can also be replaced into different query\n",
    "result_table = Simbad.query_object(\"m1\")   # the object in (\"\") can also be replaced into different object\n",
    "result_table.pprint()"
   ]
  },
  {
   "cell_type": "code",
   "execution_count": 11,
   "id": "97f72dc9",
   "metadata": {},
   "outputs": [
    {
     "name": "stdout",
     "output_type": "stream",
     "text": [
      "        MAIN_ID               RA      ...     COO_BIBCODE     SCRIPT_NUMBER_ID\n",
      "                           \"h:m:s\"    ...                                     \n",
      "----------------------- ------------- ... ------------------- ----------------\n",
      "        NAME Ori Region   05 35 17.30 ...                                    1\n",
      "                    ...           ... ...                 ...              ...\n",
      "2MASS J05353573-0525256 05 35 35.7755 ... 2020yCat.1350....0G                1\n",
      "           V* V2114 Ori 05 35 01.6720 ... 2020yCat.1350....0G                1\n",
      "Length = 3273 rows\n"
     ]
    }
   ],
   "source": [
    "# All queries allow coordinate-based queries\n",
    "\n",
    "from astropy import coordinates\n",
    "import astropy.units as u\n",
    "\n",
    "# works only for ICRS coordinates:\n",
    "\n",
    "c = coordinates.SkyCoord(\"05h35m17.3s -05d23m28s\", frame='icrs')\n",
    "r = 5 * u.arcminute\n",
    "result_table = Simbad.query_region(c, radius=r)\n",
    "result_table.pprint(show_unit=True, max_width=80, max_lines=5)"
   ]
  }
 ],
 "metadata": {
  "kernelspec": {
   "display_name": "Python 3 (ipykernel)",
   "language": "python",
   "name": "python3"
  },
  "language_info": {
   "codemirror_mode": {
    "name": "ipython",
    "version": 3
   },
   "file_extension": ".py",
   "mimetype": "text/x-python",
   "name": "python",
   "nbconvert_exporter": "python",
   "pygments_lexer": "ipython3",
   "version": "3.9.13"
  }
 },
 "nbformat": 4,
 "nbformat_minor": 5
}
