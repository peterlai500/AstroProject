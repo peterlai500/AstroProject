{
 "cells": [
  {
   "cell_type": "code",
   "execution_count": 28,
   "id": "961fe7d2",
   "metadata": {},
   "outputs": [],
   "source": [
    "from astroquery.alma import Alma\n",
    "alma = Alma()\n",
    "from astropy import coordinates\n",
    "from astropy import units as u\n",
    "# source name: J1924-2914"
   ]
  },
  {
   "cell_type": "code",
   "execution_count": 29,
   "id": "37ff8e1c",
   "metadata": {},
   "outputs": [
    {
     "ename": "SyntaxError",
     "evalue": "invalid non-printable character U+00A0 (3226825156.py, line 3)",
     "output_type": "error",
     "traceback": [
      "\u001b[0;36m  Cell \u001b[0;32mIn [29], line 3\u001b[0;36m\u001b[0m\n\u001b[0;31m    def query(Source, RA, Dec):\u001b[0m\n\u001b[0m                     ^\u001b[0m\n\u001b[0;31mSyntaxError\u001b[0m\u001b[0;31m:\u001b[0m invalid non-printable character U+00A0\n"
     ]
    }
   ],
   "source": [
    "# Defining a function \"query(Source, Ra, Dec)\" to that is able to output the data\n",
    "\n",
    "def query(Source, RA, Dec):\n",
    "    col = ['target_name', 's_ra', 's_dec', 'spatial_resolution', 'spatial_scale_max', 'band_list', 'frequency', 'cont_sensitivity_bandwidth', 'proposal_id']\n",
    "    pos = coordinates.SkyCoord(RA*u.deg, Dec*u.deg, frame='icrs')\n",
    "    data = Alma.query_region(pos, 0.003*u.deg)\n",
    "    print(targ, len(data))\n",
    "    last_id = ' '\n",
    "    \n",
    "    for i in range(len(col)):\n",
    "        print(col[i], end='  ',sep = \"\\t\")\n",
    "    print('  ')\n",
    "    \n",
    "    for i in range(len(data)):\n",
    "        if (data['dataproduct_type'][i] == 'image'):\n",
    "            # if the data is from the same proposal\n",
    "            if (data['proposal_id'][i] != last_id):\n",
    "                for c in col:\n",
    "                    # if the data is in the float form\n",
    "                    if (c == 'target_name' or c == 'proposal_id'):\n",
    "                        print(data[c][i], end='     ', sep = \"\\t\")\n",
    "                    else:\n",
    "                        print(round(float(data[c][i]), 4), end='     ', sep = \"\\t\")\n",
    "                last_id = data['proposal_id'][i]\n",
    "                print('     ')"
   ]
  },
  {
   "cell_type": "code",
   "execution_count": null,
   "id": "c06731af",
   "metadata": {},
   "outputs": [],
   "source": [
    "from astroquery.alma import Alma\n",
    "alma = Alma()\n",
    "from astropy.coordinates import SkyCoord\n",
    "from astropy import units as u\n",
    "import numpy as np\n",
    "\n",
    "name = 'J1924-2914.txt'         # the name of the file we want to import in the same folder.\n",
    "\n",
    "Source, ra, dec  = np.loadtxt(name, dtype = 'str', unpack = True)\n",
    "'''importing the file with the datatype of string and the syntax, unpack, will transpose the array'''\n",
    "\n",
    "Ra = ra.astype(float)\n",
    "Dec = dec.astype(float)\n",
    "\n",
    "data = alma.query_tap(\"select * from ivoa.obscore where target_name like '%J1924-2914%'\")\n",
    "\n",
    "\n",
    "'''\n",
    "col = []\n",
    "pos = coordinates.SkyCoord(Ra*u.deg, Dec*u.deg, frame = 'icrs')\n",
    "data = alma.query_region()\n",
    "'''"
   ]
  },
  {
   "cell_type": "code",
   "execution_count": null,
   "id": "b336443e",
   "metadata": {},
   "outputs": [],
   "source": []
  }
 ],
 "metadata": {
  "kernelspec": {
   "display_name": "Python 3 (ipykernel)",
   "language": "python",
   "name": "python3"
  },
  "language_info": {
   "codemirror_mode": {
    "name": "ipython",
    "version": 3
   },
   "file_extension": ".py",
   "mimetype": "text/x-python",
   "name": "python",
   "nbconvert_exporter": "python",
   "pygments_lexer": "ipython3",
   "version": "3.9.13"
  }
 },
 "nbformat": 4,
 "nbformat_minor": 5
}
