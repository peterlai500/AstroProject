{
 "cells": [
  {
   "cell_type": "code",
   "execution_count": 3,
   "id": "961fe7d2",
   "metadata": {},
   "outputs": [],
   "source": [
    "from astroquery.alma import Alma\n",
    "alma = Alma()\n",
    "from astropy import coordinates\n",
    "from astropy import units as u\n",
    "\n",
    "# source name: J1924-2914"
   ]
  },
  {
   "cell_type": "code",
   "execution_count": 26,
   "id": "1680cd42",
   "metadata": {},
   "outputs": [],
   "source": [
    "'''\n",
    "Defining a function for querying by \"region\n",
    "'''\n",
    "\n",
    "def query(Source, Ra, Dec):\n",
    "    col = ['target_name', 's_ra', 's_dec', 'spatial_resolution', 'spatial_scale_max', 'band_list', 'frequency', 'cont_sensitivity_bandwidth', 'proposal_id']\n",
    "    pos = coordinates.SkyCoord(Ra*u.deg, Dec*u.deg, frame='icrs')\n",
    "    data = Alma.query_region(pos, 0.5*u.deg)\n",
    "    print(Source, len(data))\n",
    "    last_id = ' '\n",
    "    for i in range(len(col)):\n",
    "        print(col[i], end = '\\t',sep = '\\t')\n",
    "    print('\\t')\n",
    "    for i in range(len(data)):\n",
    "        if (data['dataproduct_type'][i] == 'image'):\n",
    "            # if the data is from the same proposal\n",
    "            if (data['proposal_id'][i] != last_id):\n",
    "                for c in col:\n",
    "                    # if the data is in the float form\n",
    "                    if (c == 'target_name' or c == 'proposal_id'):\n",
    "                        print(data[c][i], end = '\\t',sep = '\\t')\n",
    "                    else:\n",
    "                        print(round(float(data[c][i]), 4), end='\\t',sep = '\\t')\n",
    "                last_id = data['proposal_id'][i]\n",
    "                print('\\n')"
   ]
  },
  {
   "cell_type": "code",
   "execution_count": 27,
   "id": "c06731af",
   "metadata": {},
   "outputs": [
    {
     "name": "stdout",
     "output_type": "stream",
     "text": [
      "J1924-2914 4\n",
      "target_name\ts_ra\ts_dec\tspatial_resolution\tspatial_scale_max\tband_list\tfrequency\tcont_sensitivity_bandwidth\tproposal_id\t\t\n",
      "HATLAS_RED_538\t19.8362\t-29.0304\t0.6641\t7.9568\t6.0\t224.026\t0.2009\t2018.1.00526.S\t\n",
      "\n",
      "SgrA_star 8\n",
      "target_name\ts_ra\ts_dec\tspatial_resolution\tspatial_scale_max\tband_list\tfrequency\tcont_sensitivity_bandwidth\tproposal_id\t\t\n",
      "HATLAS_RED_461\t17.2175\t-29.0625\t0.6594\t7.9384\t6.0\t224.0257\t0.2009\t2018.1.00526.S\t\n",
      "\n"
     ]
    }
   ],
   "source": [
    "from astroquery.alma import Alma\n",
    "alma = Alma()\n",
    "from astropy.coordinates import SkyCoord\n",
    "from astropy import units as u\n",
    "import numpy as np\n",
    "\n",
    "name = 'Target.txt'         # the name of the file we want to import in the same folder.\n",
    "\n",
    "Source, ra, dec  = np.loadtxt(name, dtype = 'str', unpack = True)\n",
    "#importing the file with the datatype of string and the syntax, unpack, will transpose the array'\n",
    "\n",
    "Ra = ra.astype(float)\n",
    "Dec = dec.astype(float)\n",
    "\n",
    "for i in range(len(Ra)):\n",
    "    query(Source[i], Ra[i], Dec[i])"
   ]
  },
  {
   "cell_type": "code",
   "execution_count": 23,
   "id": "50dcef8f",
   "metadata": {},
   "outputs": [
    {
     "data": {
      "text/html": [
       "<div><i>Table length=0</i>\n",
       "<table id=\"table139703988170128\" class=\"table-striped table-bordered table-condensed\">\n",
       "<thead><tr><th>obs_publisher_did</th><th>obs_collection</th><th>facility_name</th><th>instrument_name</th><th>obs_id</th><th>dataproduct_type</th><th>calib_level</th><th>target_name</th><th>s_ra</th><th>s_dec</th><th>s_fov</th><th>s_region</th><th>s_xel1</th><th>s_xel2</th><th>em_xel</th><th>t_xel</th><th>pol_xel</th><th>s_resolution</th><th>t_min</th><th>t_max</th><th>t_exptime</th><th>t_resolution</th><th>em_min</th><th>em_max</th><th>em_res_power</th><th>pol_states</th><th>o_ucd</th><th>access_url</th><th>access_format</th><th>access_estsize</th><th>proposal_id</th><th>data_rights</th><th>gal_longitude</th><th>gal_latitude</th><th>band_list</th><th>em_resolution</th><th>bandwidth</th><th>antenna_arrays</th><th>is_mosaic</th><th>obs_release_date</th><th>spatial_resolution</th><th>frequency_support</th><th>frequency</th><th>velocity_resolution</th><th>obs_creator_name</th><th>pub_title</th><th>first_author</th><th>authors</th><th>pub_abstract</th><th>publication_year</th><th>proposal_abstract</th><th>schedblock_name</th><th>proposal_authors</th><th>sensitivity_10kms</th><th>cont_sensitivity_bandwidth</th><th>pwv</th><th>group_ous_uid</th><th>member_ous_uid</th><th>asdm_uid</th><th>obs_title</th><th>type</th><th>scan_intent</th><th>science_observation</th><th>spatial_scale_max</th><th>qa2_passed</th><th>bib_reference</th><th>science_keyword</th><th>scientific_category</th><th>lastModified</th><th>collections</th></tr></thead>\n",
       "<thead><tr><th></th><th></th><th></th><th></th><th></th><th></th><th></th><th></th><th>deg</th><th>deg</th><th>deg</th><th></th><th></th><th></th><th></th><th></th><th></th><th>arcsec</th><th>d</th><th>d</th><th>s</th><th>s</th><th>m</th><th>m</th><th></th><th></th><th></th><th></th><th></th><th>kbyte</th><th></th><th></th><th>deg</th><th>deg</th><th></th><th>m</th><th>Hz</th><th></th><th></th><th></th><th>arcsec</th><th>GHz</th><th>GHz</th><th>m / s</th><th></th><th></th><th></th><th></th><th></th><th></th><th></th><th></th><th></th><th>mJy / beam</th><th>mJy / beam</th><th>mm</th><th></th><th></th><th></th><th></th><th></th><th></th><th></th><th>arcsec</th><th></th><th></th><th></th><th></th><th></th><th></th></tr></thead>\n",
       "<thead><tr><th>str33</th><th>str4</th><th>str3</th><th>str4</th><th>str64</th><th>str5</th><th>int32</th><th>str256</th><th>float64</th><th>float64</th><th>float64</th><th>object</th><th>int32</th><th>int32</th><th>int32</th><th>int32</th><th>int32</th><th>float64</th><th>float64</th><th>float64</th><th>float64</th><th>float64</th><th>float64</th><th>float64</th><th>float64</th><th>str64</th><th>str35</th><th>str72</th><th>str9</th><th>int32</th><th>str64</th><th>str11</th><th>float64</th><th>float64</th><th>str30</th><th>float64</th><th>float64</th><th>str660</th><th>str1</th><th>object</th><th>float64</th><th>str4000</th><th>float64</th><th>float64</th><th>str256</th><th>str256</th><th>str256</th><th>str4000</th><th>str4000</th><th>int32</th><th>str4000</th><th>str128</th><th>str2000</th><th>float64</th><th>float64</th><th>float32</th><th>str64</th><th>str64</th><th>str32</th><th>str256</th><th>str16</th><th>str256</th><th>str1</th><th>float64</th><th>str1</th><th>str4000</th><th>str200</th><th>str200</th><th>str32</th><th>str128</th></tr></thead>\n",
       "</table></div>"
      ],
      "text/plain": [
       "<Table length=0>\n",
       "obs_publisher_did obs_collection facility_name instrument_name obs_id ... bib_reference science_keyword scientific_category lastModified collections\n",
       "                                                                      ...                                                                           \n",
       "      str33            str4           str3           str4      str64  ...    str4000         str200            str200          str32        str128  \n",
       "----------------- -------------- ------------- --------------- ------ ... ------------- --------------- ------------------- ------------ -----------"
      ]
     },
     "execution_count": 23,
     "metadata": {},
     "output_type": "execute_result"
    }
   ],
   "source": [
    "from astroquery.alma import Alma\n",
    "alma = Alma()\n",
    "from astropy import coordinates\n",
    "from astropy import units as u\n",
    "\n",
    "\n",
    "alma.query(payload = dict(project_code = '2013.1.00071.S'), source_name_alma = 'J2914-1924')"
   ]
  }
 ],
 "metadata": {
  "kernelspec": {
   "display_name": "Python 3 (ipykernel)",
   "language": "python",
   "name": "python3"
  },
  "language_info": {
   "codemirror_mode": {
    "name": "ipython",
    "version": 3
   },
   "file_extension": ".py",
   "mimetype": "text/x-python",
   "name": "python",
   "nbconvert_exporter": "python",
   "pygments_lexer": "ipython3",
   "version": "3.9.13"
  }
 },
 "nbformat": 4,
 "nbformat_minor": 5
}
