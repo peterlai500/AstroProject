{
 "cells": [
  {
   "cell_type": "code",
   "execution_count": 21,
   "id": "961fe7d2",
   "metadata": {},
   "outputs": [],
   "source": [
    "from astroquery.alma import Alma\n",
    "alma = Alma()\n",
    "from astropy import coordinates\n",
    "from astropy import units as u\n",
    "\n",
    "# source name: J1924-2914"
   ]
  },
  {
   "cell_type": "code",
   "execution_count": 79,
   "id": "1680cd42",
   "metadata": {},
   "outputs": [],
   "source": [
    "'''\n",
    "Defining a function for querying by region\n",
    "'''\n",
    "\n",
    "def query(Source, Ra, Dec):\n",
    "    col = ['target_name', 's_ra', 's_dec', 'spatial_resolution', 'spatial_scale_max', 'band_list', 'frequency', 'cont_sensitivity_bandwidth', 'proposal_id']\n",
    "    pos = coordinates.SkyCoord(Ra*u.deg, Dec*u.deg, frame='icrs')\n",
    "    data = Alma.query_region(pos, 0.5*u.deg)\n",
    "    print(Source, len(data))\n",
    "    last_id = ' '\n",
    "    for i in range(len(col)):\n",
    "        print(col[i], end = '\\t',sep = '\\t')\n",
    "    print('\\n')\n",
    "    for i in range(len(data)):\n",
    "        if (data['dataproduct_type'][i] == 'image'):\n",
    "            # if the data is from the same proposal\n",
    "            if (data['proposal_id'][i] != last_id):\n",
    "                for c in col:\n",
    "                    # if the data is in the float form\n",
    "                    if (c == 'target_name' or c == 'proposal_id'):\n",
    "                        print(data[c][i], end = '\\t',sep = '\\t')\n",
    "                    else:\n",
    "                        print(round(float(data[c][i]), 4), end='\\t', sep = '\\t')\n",
    "                last_id = data['proposal_id'][i]\n",
    "                print('\\n')"
   ]
  },
  {
   "cell_type": "code",
   "execution_count": 80,
   "id": "c06731af",
   "metadata": {},
   "outputs": [
    {
     "name": "stdout",
     "output_type": "stream",
     "text": [
      "J1924-2914 4\n",
      "target_name\ts_ra\ts_dec\tspatial_resolution\tspatial_scale_max\tband_list\tfrequency\tcont_sensitivity_bandwidth\tproposal_id\t\n",
      "\n",
      "HATLAS_RED_538\t19.8362\t-29.0304\t0.6641\t7.9568\t6.0\t224.026\t0.2009\t2018.1.00526.S\t\n",
      "\n",
      "SgrA_star 8\n",
      "target_name\ts_ra\ts_dec\tspatial_resolution\tspatial_scale_max\tband_list\tfrequency\tcont_sensitivity_bandwidth\tproposal_id\t\n",
      "\n",
      "HATLAS_RED_461\t17.2175\t-29.0625\t0.6594\t7.9384\t6.0\t224.0257\t0.2009\t2018.1.00526.S\t\n",
      "\n"
     ]
    }
   ],
   "source": [
    "from astroquery.alma import Alma\n",
    "alma = Alma()\n",
    "from astropy.coordinates import SkyCoord\n",
    "from astropy import units as u\n",
    "import numpy as np\n",
    "\n",
    "name = 'Target.txt'         # the name of the file we want to import in the same folder.\n",
    "\n",
    "Source, ra, dec  = np.loadtxt(name, dtype = 'str', unpack = True)\n",
    "#importing the file with the datatype of string and the syntax, unpack, will transpose the array'\n",
    "\n",
    "Ra = ra.astype(float)\n",
    "Dec = dec.astype(float)\n",
    "\n",
    "for i in range(len(Ra)):\n",
    "    query(Source[i], Ra[i], Dec[i])"
   ]
  },
  {
   "cell_type": "code",
   "execution_count": null,
   "id": "50dcef8f",
   "metadata": {},
   "outputs": [],
   "source": []
  }
 ],
 "metadata": {
  "kernelspec": {
   "display_name": "Python 3 (ipykernel)",
   "language": "python",
   "name": "python3"
  },
  "language_info": {
   "codemirror_mode": {
    "name": "ipython",
    "version": 3
   },
   "file_extension": ".py",
   "mimetype": "text/x-python",
   "name": "python",
   "nbconvert_exporter": "python",
   "pygments_lexer": "ipython3",
   "version": "3.9.13"
  }
 },
 "nbformat": 4,
 "nbformat_minor": 5
}
