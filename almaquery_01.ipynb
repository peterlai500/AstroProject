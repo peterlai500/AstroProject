{
 "cells": [
  {
   "cell_type": "code",
   "execution_count": 5,
   "id": "961fe7d2",
   "metadata": {},
   "outputs": [],
   "source": [
    "from astroquery.alma import Alma\n",
    "alma = Alma()\n",
    "from astropy import coordinates\n",
    "from astropy import units as u\n",
    "\n",
    "# source name: J1924-2914"
   ]
  },
  {
   "cell_type": "code",
   "execution_count": 1,
   "id": "a67bac97",
   "metadata": {},
   "outputs": [
    {
     "ename": "IndentationError",
     "evalue": "expected an indented block (2357157814.py, line 2)",
     "output_type": "error",
     "traceback": [
      "\u001b[0;36m  Cell \u001b[0;32mIn [1], line 2\u001b[0;36m\u001b[0m\n\u001b[0;31m    \u001b[0m\n\u001b[0m    ^\u001b[0m\n\u001b[0;31mIndentationError\u001b[0m\u001b[0;31m:\u001b[0m expected an indented block\n"
     ]
    }
   ],
   "source": [
    "def query(targ, Re, Dec):\n",
    "    "
   ]
  },
  {
   "cell_type": "code",
   "execution_count": null,
   "id": "c06731af",
   "metadata": {},
   "outputs": [],
   "source": [
    "from astroquery.alma import Alma\n",
    "alma = Alma()\n",
    "from astropy.coordinates import SkyCoord\n",
    "from astropy import units as u\n",
    "import numpy as np\n",
    "\n",
    "name = 'J1924-2914'\n",
    "\n",
    "Source, ra, dec  = np.loadtxt(name, dtype = 'str', unpack = True)\n",
    "\n",
    "ra = ra*u.hourangle\n",
    "dec = dec*u.hourangle\n",
    "\n",
    "col = "
   ]
  }
 ],
 "metadata": {
  "kernelspec": {
   "display_name": "Python 3 (ipykernel)",
   "language": "python",
   "name": "python3"
  },
  "language_info": {
   "codemirror_mode": {
    "name": "ipython",
    "version": 3
   },
   "file_extension": ".py",
   "mimetype": "text/x-python",
   "name": "python",
   "nbconvert_exporter": "python",
   "pygments_lexer": "ipython3",
   "version": "3.9.13"
  }
 },
 "nbformat": 4,
 "nbformat_minor": 5
}
